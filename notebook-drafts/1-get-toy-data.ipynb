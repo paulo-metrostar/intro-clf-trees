{
 "cells": [
  {
   "cell_type": "markdown",
   "metadata": {},
   "source": [
    "# 1. Get Toy Data\n",
    "- Let's generate a simple toy data set representing web-session data\n",
    "    - with 3 different classes\n",
    "    - with simple intuitive features\n",
    "        - Other than some super simple dummy-encoding of categoricals, we won't go into feature engineering"
   ]
  },
  {
   "cell_type": "markdown",
   "metadata": {},
   "source": [
    "imports"
   ]
  },
  {
   "cell_type": "code",
   "execution_count": 1,
   "metadata": {},
   "outputs": [],
   "source": [
    "# for plotting\n",
    "import matplotlib.pyplot as plt\n",
    "# for numerical transformations\n",
    "import numpy as np\n",
    "# for data frame (i.e. table) manipulations\n",
    "import pandas as pd\n",
    "# to easily generate a data set with a classification signal in it\n",
    "from sklearn.datasets import make_classification"
   ]
  },
  {
   "cell_type": "markdown",
   "metadata": {},
   "source": [
    "notebook variables"
   ]
  },
  {
   "cell_type": "code",
   "execution_count": 2,
   "metadata": {},
   "outputs": [],
   "source": [
    "# declare whether or not to print some feedback\n",
    "verbose = True"
   ]
  },
  {
   "cell_type": "markdown",
   "metadata": {},
   "source": [
    "I'd like to start with the following columns"
   ]
  },
  {
   "cell_type": "code",
   "execution_count": 3,
   "metadata": {},
   "outputs": [
    {
     "name": "stdout",
     "output_type": "stream",
     "text": [
      "Initialized web-session data-frame with info:\n",
      "----------------------------------------------\n",
      "<class 'pandas.core.frame.DataFrame'>\n",
      "RangeIndex: 0 entries\n",
      "Data columns (total 10 columns):\n",
      " #   Column           Non-Null Count  Dtype  \n",
      "---  ------           --------------  -----  \n",
      " 0   start_time       0 non-null      float64\n",
      " 1   weekday          0 non-null      float64\n",
      " 2   chrome_browser   0 non-null      float64\n",
      " 3   firefox_browser  0 non-null      float64\n",
      " 4   mobile_device    0 non-null      float64\n",
      " 5   1st_page_search  0 non-null      float64\n",
      " 6   1st_page_faq     0 non-null      float64\n",
      " 7   2nd_page_search  0 non-null      float64\n",
      " 8   2nd_page_faq     0 non-null      float64\n",
      " 9   TARGET_PAGE      0 non-null      float64\n",
      "dtypes: float64(10)\n",
      "memory usage: 124.0 bytes\n",
      "None\n"
     ]
    }
   ],
   "source": [
    "# initialize a empty data frame\n",
    "web_sesh_df = pd.DataFrame(\n",
    "    # declare the column headers with empty columns for now\n",
    "    data = {\n",
    "        # hour of day (0-24) as float\n",
    "        'start_time':[],\n",
    "        # weekday (0-7) treat as int (although it should properly be understood as a categorical)\n",
    "        'weekday':[],\n",
    "        # boolean indicator of whether or not the session is on a chrome browser\n",
    "        'chrome_browser':[],\n",
    "        # boolean indicator of whether or not the session is on a firefox browser\n",
    "        'firefox_browser':[],\n",
    "        # boolean indicator of whether or not the session is on a mobile device\n",
    "        'mobile_device':[],\n",
    "        # boolean indicator of whether or not the 1st page visited was\n",
    "        '1st_page_search':[],\n",
    "        # boolean indicator of whether or not the 1st page visited was\n",
    "        '1st_page_faq':[],\n",
    "        # boolean indicator of whether or not the 1st page visited was\n",
    "        '2nd_page_search':[],\n",
    "        # boolean indicator of whether or not the 1st page visited was\n",
    "        '2nd_page_faq':[],\n",
    "        # the last page a session interacted with; and the prediction target\n",
    "        'TARGET_PAGE':[]\n",
    "        \n",
    "    }\n",
    ")\n",
    "\n",
    "# display the column headers\n",
    "if verbose:\n",
    "    feedback = 'Initialized web-session data-frame with info:\\n'\n",
    "    feedback += '-'*len(feedback)\n",
    "    print(feedback)\n",
    "    print(web_sesh_df.info())"
   ]
  },
  {
   "cell_type": "markdown",
   "metadata": {},
   "source": [
    "Note the data-frame is currently empty"
   ]
  },
  {
   "cell_type": "code",
   "execution_count": 4,
   "metadata": {},
   "outputs": [
    {
     "data": {
      "text/html": [
       "<div>\n",
       "<style scoped>\n",
       "    .dataframe tbody tr th:only-of-type {\n",
       "        vertical-align: middle;\n",
       "    }\n",
       "\n",
       "    .dataframe tbody tr th {\n",
       "        vertical-align: top;\n",
       "    }\n",
       "\n",
       "    .dataframe thead th {\n",
       "        text-align: right;\n",
       "    }\n",
       "</style>\n",
       "<table border=\"1\" class=\"dataframe\">\n",
       "  <thead>\n",
       "    <tr style=\"text-align: right;\">\n",
       "      <th></th>\n",
       "      <th>start_time</th>\n",
       "      <th>weekday</th>\n",
       "      <th>chrome_browser</th>\n",
       "      <th>firefox_browser</th>\n",
       "      <th>mobile_device</th>\n",
       "      <th>1st_page_search</th>\n",
       "      <th>1st_page_faq</th>\n",
       "      <th>2nd_page_search</th>\n",
       "      <th>2nd_page_faq</th>\n",
       "      <th>TARGET_PAGE</th>\n",
       "    </tr>\n",
       "  </thead>\n",
       "  <tbody>\n",
       "  </tbody>\n",
       "</table>\n",
       "</div>"
      ],
      "text/plain": [
       "Empty DataFrame\n",
       "Columns: [start_time, weekday, chrome_browser, firefox_browser, mobile_device, 1st_page_search, 1st_page_faq, 2nd_page_search, 2nd_page_faq, TARGET_PAGE]\n",
       "Index: []"
      ]
     },
     "execution_count": 4,
     "metadata": {},
     "output_type": "execute_result"
    }
   ],
   "source": [
    "web_sesh_df.head()"
   ]
  },
  {
   "cell_type": "markdown",
   "metadata": {},
   "source": [
    "## Ok, let's epxlore how `make_classification` works\n",
    "**Start with something simple**"
   ]
  },
  {
   "cell_type": "code",
   "execution_count": 5,
   "metadata": {},
   "outputs": [],
   "source": [
    "# keep it simple with a 2d plottable data set\n",
    "X,y = make_classification(\n",
    "    n_samples = 1000,\n",
    "    # only two features for 2d plotting\n",
    "    n_features = 2,\n",
    "    n_redundant = 0,\n",
    "    n_informative = 2,\n",
    "    random_state = 1,\n",
    "    n_clusters_per_class = 1,\n",
    ")"
   ]
  },
  {
   "cell_type": "code",
   "execution_count": 6,
   "metadata": {},
   "outputs": [
    {
     "data": {
      "text/plain": [
       "array([[ 1.53682958, -1.39869399],\n",
       "       [ 1.36917601, -0.63734411],\n",
       "       [ 0.50231787, -0.45910529],\n",
       "       [ 1.83319262, -1.29808229],\n",
       "       [ 1.04235568,  1.12152929]])"
      ]
     },
     "execution_count": 6,
     "metadata": {},
     "output_type": "execute_result"
    }
   ],
   "source": [
    "# take a look at the first 5 samples\n",
    "X[:5]"
   ]
  },
  {
   "cell_type": "code",
   "execution_count": 7,
   "metadata": {},
   "outputs": [
    {
     "data": {
      "text/plain": [
       "array([1.53682958, 1.36917601, 0.50231787, 1.83319262, 1.04235568])"
      ]
     },
     "execution_count": 7,
     "metadata": {},
     "output_type": "execute_result"
    }
   ],
   "source": [
    "# take a look at the first 5 samples\n",
    "X[:5, 0]"
   ]
  },
  {
   "cell_type": "code",
   "execution_count": 8,
   "metadata": {},
   "outputs": [
    {
     "data": {
      "text/plain": [
       "array([1, 1, 1, 1, 0])"
      ]
     },
     "execution_count": 8,
     "metadata": {},
     "output_type": "execute_result"
    }
   ],
   "source": [
    "y[:5]"
   ]
  },
  {
   "cell_type": "code",
   "execution_count": 9,
   "metadata": {},
   "outputs": [
    {
     "data": {
      "text/html": [
       "<div>\n",
       "<style scoped>\n",
       "    .dataframe tbody tr th:only-of-type {\n",
       "        vertical-align: middle;\n",
       "    }\n",
       "\n",
       "    .dataframe tbody tr th {\n",
       "        vertical-align: top;\n",
       "    }\n",
       "\n",
       "    .dataframe thead th {\n",
       "        text-align: right;\n",
       "    }\n",
       "</style>\n",
       "<table border=\"1\" class=\"dataframe\">\n",
       "  <thead>\n",
       "    <tr style=\"text-align: right;\">\n",
       "      <th></th>\n",
       "      <th>feature_1</th>\n",
       "      <th>feature_2</th>\n",
       "      <th>BINARY_TARGET</th>\n",
       "    </tr>\n",
       "  </thead>\n",
       "  <tbody>\n",
       "    <tr>\n",
       "      <th>0</th>\n",
       "      <td>1.536830</td>\n",
       "      <td>-1.398694</td>\n",
       "      <td>1</td>\n",
       "    </tr>\n",
       "    <tr>\n",
       "      <th>1</th>\n",
       "      <td>1.369176</td>\n",
       "      <td>-0.637344</td>\n",
       "      <td>1</td>\n",
       "    </tr>\n",
       "    <tr>\n",
       "      <th>2</th>\n",
       "      <td>0.502318</td>\n",
       "      <td>-0.459105</td>\n",
       "      <td>1</td>\n",
       "    </tr>\n",
       "    <tr>\n",
       "      <th>3</th>\n",
       "      <td>1.833193</td>\n",
       "      <td>-1.298082</td>\n",
       "      <td>1</td>\n",
       "    </tr>\n",
       "    <tr>\n",
       "      <th>4</th>\n",
       "      <td>1.042356</td>\n",
       "      <td>1.121529</td>\n",
       "      <td>0</td>\n",
       "    </tr>\n",
       "  </tbody>\n",
       "</table>\n",
       "</div>"
      ],
      "text/plain": [
       "   feature_1  feature_2  BINARY_TARGET\n",
       "0   1.536830  -1.398694              1\n",
       "1   1.369176  -0.637344              1\n",
       "2   0.502318  -0.459105              1\n",
       "3   1.833193  -1.298082              1\n",
       "4   1.042356   1.121529              0"
      ]
     },
     "execution_count": 9,
     "metadata": {},
     "output_type": "execute_result"
    }
   ],
   "source": [
    "# could put it into a df if I wanted to\n",
    "toy_df = pd.DataFrame(\n",
    "   data =  {\n",
    "       # get every row, but the first column of X\n",
    "       'feature_1': X[:,0],\n",
    "       # get every row but the second col\n",
    "       'feature_2': X[:,1],\n",
    "       'BINARY_TARGET':y\n",
    "   }\n",
    ")\n",
    "# display the toy data set\n",
    "toy_df.head()"
   ]
  },
  {
   "cell_type": "markdown",
   "metadata": {},
   "source": [
    "**plot what the generated classes look like in 2d space**"
   ]
  },
  {
   "cell_type": "code",
   "execution_count": 10,
   "metadata": {},
   "outputs": [
    {
     "data": {
      "text/plain": [
       "[]"
      ]
     },
     "execution_count": 10,
     "metadata": {},
     "output_type": "execute_result"
    },
    {
     "data": {
      "image/png": "[encoded data removed]",
      "text/plain": [
       "<Figure size 432x288 with 1 Axes>"
      ]
     },
     "metadata": {
      "needs_background": "light"
     },
     "output_type": "display_data"
    }
   ],
   "source": [
    "toy_df.plot.scatter(\n",
    "    x = 'feature_1',\n",
    "    y = 'feature_2',\n",
    "    # set the color\n",
    "    c = 'BINARY_TARGET',\n",
    "    edgecolors = 'k',\n",
    "    colorbar = False,\n",
    ")\n",
    "plt.title('Toy example of 2 classes with 2 informative features')\n",
    "plt.plot()"
   ]
  },
  {
   "cell_type": "markdown",
   "metadata": {},
   "source": [
    "### repeat the vis but with 2 clusters per class"
   ]
  },
  {
   "cell_type": "code",
   "execution_count": 11,
   "metadata": {},
   "outputs": [],
   "source": [
    "# keep it simple with a 2d plottable data set\n",
    "X,y = make_classification(\n",
    "    n_samples = 5000,\n",
    "    n_features = 2,\n",
    "    n_redundant = 0,\n",
    "    n_informative = 2,\n",
    "    random_state = 1,\n",
    "    n_clusters_per_class = 2,\n",
    ")"
   ]
  },
  {
   "cell_type": "code",
   "execution_count": 12,
   "metadata": {},
   "outputs": [
    {
     "data": {
      "text/html": [
       "<div>\n",
       "<style scoped>\n",
       "    .dataframe tbody tr th:only-of-type {\n",
       "        vertical-align: middle;\n",
       "    }\n",
       "\n",
       "    .dataframe tbody tr th {\n",
       "        vertical-align: top;\n",
       "    }\n",
       "\n",
       "    .dataframe thead th {\n",
       "        text-align: right;\n",
       "    }\n",
       "</style>\n",
       "<table border=\"1\" class=\"dataframe\">\n",
       "  <thead>\n",
       "    <tr style=\"text-align: right;\">\n",
       "      <th></th>\n",
       "      <th>feature_1</th>\n",
       "      <th>feature_2</th>\n",
       "      <th>BINARY_TARGET</th>\n",
       "    </tr>\n",
       "  </thead>\n",
       "  <tbody>\n",
       "    <tr>\n",
       "      <th>0</th>\n",
       "      <td>-0.875616</td>\n",
       "      <td>-0.977599</td>\n",
       "      <td>1</td>\n",
       "    </tr>\n",
       "    <tr>\n",
       "      <th>1</th>\n",
       "      <td>-0.541799</td>\n",
       "      <td>1.038633</td>\n",
       "      <td>0</td>\n",
       "    </tr>\n",
       "    <tr>\n",
       "      <th>2</th>\n",
       "      <td>-0.713956</td>\n",
       "      <td>-1.173781</td>\n",
       "      <td>0</td>\n",
       "    </tr>\n",
       "    <tr>\n",
       "      <th>3</th>\n",
       "      <td>0.463707</td>\n",
       "      <td>-1.121944</td>\n",
       "      <td>1</td>\n",
       "    </tr>\n",
       "    <tr>\n",
       "      <th>4</th>\n",
       "      <td>-1.581774</td>\n",
       "      <td>2.230862</td>\n",
       "      <td>0</td>\n",
       "    </tr>\n",
       "  </tbody>\n",
       "</table>\n",
       "</div>"
      ],
      "text/plain": [
       "   feature_1  feature_2  BINARY_TARGET\n",
       "0  -0.875616  -0.977599              1\n",
       "1  -0.541799   1.038633              0\n",
       "2  -0.713956  -1.173781              0\n",
       "3   0.463707  -1.121944              1\n",
       "4  -1.581774   2.230862              0"
      ]
     },
     "execution_count": 12,
     "metadata": {},
     "output_type": "execute_result"
    }
   ],
   "source": [
    "# could put it into a df if I wanted to\n",
    "toy_df = pd.DataFrame(\n",
    "   data =  {\n",
    "       # get every row, but the first column of X\n",
    "       'feature_1': X[:,0],\n",
    "       # get every row but the second col\n",
    "       'feature_2': X[:,1],\n",
    "       'BINARY_TARGET':y\n",
    "   }\n",
    ")\n",
    "# display the toy data set\n",
    "toy_df.head()"
   ]
  },
  {
   "cell_type": "code",
   "execution_count": 13,
   "metadata": {},
   "outputs": [
    {
     "data": {
      "text/plain": [
       "[]"
      ]
     },
     "execution_count": 13,
     "metadata": {},
     "output_type": "execute_result"
    },
    {
     "data": {
      "image/png": "[encoded data removed]",
      "text/plain": [
       "<Figure size 432x288 with 1 Axes>"
      ]
     },
     "metadata": {
      "needs_background": "light"
     },
     "output_type": "display_data"
    }
   ],
   "source": [
    "toy_df.plot.scatter(\n",
    "    x = 'feature_1',\n",
    "    y = 'feature_2',\n",
    "    # set the color\n",
    "    c = 'BINARY_TARGET',\n",
    "    edgecolors = 'k',\n",
    "    colorbar = False,\n",
    "    alpha = .5\n",
    ")\n",
    "plt.title('Toy example with 2 informative features and 2 clusters per class')\n",
    "plt.plot()"
   ]
  },
  {
   "cell_type": "markdown",
   "metadata": {},
   "source": [
    "Ok. Now that we're comfortable with how `make_classification` works, \n",
    "## let's generate the toy data to fit my empty data frame"
   ]
  },
  {
   "cell_type": "markdown",
   "metadata": {},
   "source": [
    "Generate some toy data to put into the data frame"
   ]
  },
  {
   "cell_type": "code",
   "execution_count": 14,
   "metadata": {},
   "outputs": [
    {
     "data": {
      "text/html": [
       "<div>\n",
       "<style scoped>\n",
       "    .dataframe tbody tr th:only-of-type {\n",
       "        vertical-align: middle;\n",
       "    }\n",
       "\n",
       "    .dataframe tbody tr th {\n",
       "        vertical-align: top;\n",
       "    }\n",
       "\n",
       "    .dataframe thead th {\n",
       "        text-align: right;\n",
       "    }\n",
       "</style>\n",
       "<table border=\"1\" class=\"dataframe\">\n",
       "  <thead>\n",
       "    <tr style=\"text-align: right;\">\n",
       "      <th></th>\n",
       "      <th>start_time</th>\n",
       "      <th>weekday</th>\n",
       "      <th>chrome_browser</th>\n",
       "      <th>firefox_browser</th>\n",
       "      <th>mobile_device</th>\n",
       "      <th>1st_page_search</th>\n",
       "      <th>1st_page_faq</th>\n",
       "      <th>2nd_page_search</th>\n",
       "      <th>2nd_page_faq</th>\n",
       "      <th>TARGET_PAGE</th>\n",
       "    </tr>\n",
       "  </thead>\n",
       "  <tbody>\n",
       "    <tr>\n",
       "      <th>0</th>\n",
       "      <td>-2.512761</td>\n",
       "      <td>2.849728</td>\n",
       "      <td>-1.341746</td>\n",
       "      <td>-2.236929</td>\n",
       "      <td>-1.570451</td>\n",
       "      <td>-4.353039</td>\n",
       "      <td>-2.433338</td>\n",
       "      <td>-0.752993</td>\n",
       "      <td>2.443055</td>\n",
       "      <td>1</td>\n",
       "    </tr>\n",
       "    <tr>\n",
       "      <th>1</th>\n",
       "      <td>1.791584</td>\n",
       "      <td>0.490666</td>\n",
       "      <td>0.131259</td>\n",
       "      <td>-1.167027</td>\n",
       "      <td>-2.835777</td>\n",
       "      <td>1.655398</td>\n",
       "      <td>0.033763</td>\n",
       "      <td>0.918596</td>\n",
       "      <td>1.094318</td>\n",
       "      <td>2</td>\n",
       "    </tr>\n",
       "    <tr>\n",
       "      <th>2</th>\n",
       "      <td>-1.935616</td>\n",
       "      <td>2.310886</td>\n",
       "      <td>0.055705</td>\n",
       "      <td>-1.383175</td>\n",
       "      <td>2.011366</td>\n",
       "      <td>-2.972686</td>\n",
       "      <td>-1.532550</td>\n",
       "      <td>-2.156360</td>\n",
       "      <td>-0.201319</td>\n",
       "      <td>1</td>\n",
       "    </tr>\n",
       "    <tr>\n",
       "      <th>3</th>\n",
       "      <td>-3.490736</td>\n",
       "      <td>3.280679</td>\n",
       "      <td>1.535676</td>\n",
       "      <td>-4.111990</td>\n",
       "      <td>1.487855</td>\n",
       "      <td>-9.452995</td>\n",
       "      <td>-0.815728</td>\n",
       "      <td>1.846390</td>\n",
       "      <td>3.201373</td>\n",
       "      <td>1</td>\n",
       "    </tr>\n",
       "    <tr>\n",
       "      <th>4</th>\n",
       "      <td>0.116062</td>\n",
       "      <td>0.331729</td>\n",
       "      <td>-2.758988</td>\n",
       "      <td>0.820280</td>\n",
       "      <td>5.656500</td>\n",
       "      <td>-1.211446</td>\n",
       "      <td>-1.269460</td>\n",
       "      <td>-6.691451</td>\n",
       "      <td>-0.010707</td>\n",
       "      <td>1</td>\n",
       "    </tr>\n",
       "  </tbody>\n",
       "</table>\n",
       "</div>"
      ],
      "text/plain": [
       "   start_time   weekday  chrome_browser  firefox_browser  mobile_device  \\\n",
       "0   -2.512761  2.849728       -1.341746        -2.236929      -1.570451   \n",
       "1    1.791584  0.490666        0.131259        -1.167027      -2.835777   \n",
       "2   -1.935616  2.310886        0.055705        -1.383175       2.011366   \n",
       "3   -3.490736  3.280679        1.535676        -4.111990       1.487855   \n",
       "4    0.116062  0.331729       -2.758988         0.820280       5.656500   \n",
       "\n",
       "   1st_page_search  1st_page_faq  2nd_page_search  2nd_page_faq  TARGET_PAGE  \n",
       "0        -4.353039     -2.433338        -0.752993      2.443055            1  \n",
       "1         1.655398      0.033763         0.918596      1.094318            2  \n",
       "2        -2.972686     -1.532550        -2.156360     -0.201319            1  \n",
       "3        -9.452995     -0.815728         1.846390      3.201373            1  \n",
       "4        -1.211446     -1.269460        -6.691451     -0.010707            1  "
      ]
     },
     "execution_count": 14,
     "metadata": {},
     "output_type": "execute_result"
    }
   ],
   "source": [
    "# Generate some toy data to put into the data frame\n",
    "X,y = make_classification(\n",
    "    # generate 100,000 rows\n",
    "    n_samples = 300,\n",
    "    # set the number of features to the width of the data minus the target column\n",
    "    n_features = web_sesh_df.shape[1] - 1,\n",
    "    # let's assume all the columns are informative except for the two browser features, so that's 7\n",
    "    n_informative = 7,\n",
    "    # declare number of target pages/classes to predict (keep it simple at 3)\n",
    "    n_classes = 3,\n",
    "    # declare the number of clusters per class\n",
    "    n_clusters_per_class = 1,\n",
    "    # declare how easty to make the classification task (larger is easier)\n",
    "    class_sep = 1.5,\n",
    "    # set random seed for reproducibility\n",
    "    random_state = 1\n",
    ")\n",
    "\n",
    "# unpack each column in X into columns of a data frame\n",
    "for i in range(X.shape[1]):\n",
    "    # get the corresponding column in the data frame\n",
    "    col = web_sesh_df.columns[i]\n",
    "    # assign the column in X to the column in the df\n",
    "    web_sesh_df[col] = X[:,i]\n",
    "\n",
    "# assign the target column\n",
    "web_sesh_df['TARGET_PAGE'] = y\n",
    "    \n",
    "# take a look at the data now\n",
    "web_sesh_df.head()"
   ]
  },
  {
   "cell_type": "code",
   "execution_count": 15,
   "metadata": {},
   "outputs": [
    {
     "name": "stdout",
     "output_type": "stream",
     "text": [
      "<class 'pandas.core.frame.DataFrame'>\n",
      "RangeIndex: 300 entries, 0 to 299\n",
      "Data columns (total 10 columns):\n",
      " #   Column           Non-Null Count  Dtype  \n",
      "---  ------           --------------  -----  \n",
      " 0   start_time       300 non-null    float64\n",
      " 1   weekday          300 non-null    float64\n",
      " 2   chrome_browser   300 non-null    float64\n",
      " 3   firefox_browser  300 non-null    float64\n",
      " 4   mobile_device    300 non-null    float64\n",
      " 5   1st_page_search  300 non-null    float64\n",
      " 6   1st_page_faq     300 non-null    float64\n",
      " 7   2nd_page_search  300 non-null    float64\n",
      " 8   2nd_page_faq     300 non-null    float64\n",
      " 9   TARGET_PAGE      300 non-null    int64  \n",
      "dtypes: float64(9), int64(1)\n",
      "memory usage: 23.6 KB\n"
     ]
    }
   ],
   "source": [
    "# display the data frames info now\n",
    "web_sesh_df.info()"
   ]
  },
  {
   "cell_type": "markdown",
   "metadata": {},
   "source": [
    "Cool! Note that I won't be trying to make any plots because the data is now 9 dimensional."
   ]
  },
  {
   "cell_type": "markdown",
   "metadata": {},
   "source": [
    "## manipulate the values so they make intuitive sense according to their column headers"
   ]
  },
  {
   "cell_type": "code",
   "execution_count": 16,
   "metadata": {},
   "outputs": [
    {
     "data": {
      "text/html": [
       "<div>\n",
       "<style scoped>\n",
       "    .dataframe tbody tr th:only-of-type {\n",
       "        vertical-align: middle;\n",
       "    }\n",
       "\n",
       "    .dataframe tbody tr th {\n",
       "        vertical-align: top;\n",
       "    }\n",
       "\n",
       "    .dataframe thead th {\n",
       "        text-align: right;\n",
       "    }\n",
       "</style>\n",
       "<table border=\"1\" class=\"dataframe\">\n",
       "  <thead>\n",
       "    <tr style=\"text-align: right;\">\n",
       "      <th></th>\n",
       "      <th>start_time</th>\n",
       "      <th>weekday</th>\n",
       "      <th>chrome_browser</th>\n",
       "      <th>firefox_browser</th>\n",
       "      <th>mobile_device</th>\n",
       "      <th>1st_page_search</th>\n",
       "      <th>1st_page_faq</th>\n",
       "      <th>2nd_page_search</th>\n",
       "      <th>2nd_page_faq</th>\n",
       "      <th>TARGET_PAGE</th>\n",
       "    </tr>\n",
       "  </thead>\n",
       "  <tbody>\n",
       "    <tr>\n",
       "      <th>count</th>\n",
       "      <td>300.000000</td>\n",
       "      <td>300.000000</td>\n",
       "      <td>300.000000</td>\n",
       "      <td>300.000000</td>\n",
       "      <td>300.000000</td>\n",
       "      <td>300.000000</td>\n",
       "      <td>300.000000</td>\n",
       "      <td>300.000000</td>\n",
       "      <td>300.000000</td>\n",
       "      <td>300.000000</td>\n",
       "    </tr>\n",
       "    <tr>\n",
       "      <th>mean</th>\n",
       "      <td>-0.627651</td>\n",
       "      <td>1.365010</td>\n",
       "      <td>-0.063963</td>\n",
       "      <td>0.538765</td>\n",
       "      <td>0.549948</td>\n",
       "      <td>-1.742049</td>\n",
       "      <td>0.478875</td>\n",
       "      <td>-0.582291</td>\n",
       "      <td>0.508629</td>\n",
       "      <td>1.010000</td>\n",
       "    </tr>\n",
       "    <tr>\n",
       "      <th>std</th>\n",
       "      <td>2.382041</td>\n",
       "      <td>1.568247</td>\n",
       "      <td>2.013020</td>\n",
       "      <td>1.922904</td>\n",
       "      <td>2.220617</td>\n",
       "      <td>4.253595</td>\n",
       "      <td>2.007415</td>\n",
       "      <td>2.336779</td>\n",
       "      <td>2.248041</td>\n",
       "      <td>0.819842</td>\n",
       "    </tr>\n",
       "    <tr>\n",
       "      <th>min</th>\n",
       "      <td>-6.298082</td>\n",
       "      <td>-3.117534</td>\n",
       "      <td>-4.840822</td>\n",
       "      <td>-4.360543</td>\n",
       "      <td>-6.044592</td>\n",
       "      <td>-14.890643</td>\n",
       "      <td>-5.624413</td>\n",
       "      <td>-6.691451</td>\n",
       "      <td>-6.088136</td>\n",
       "      <td>0.000000</td>\n",
       "    </tr>\n",
       "    <tr>\n",
       "      <th>25%</th>\n",
       "      <td>-2.261912</td>\n",
       "      <td>0.286666</td>\n",
       "      <td>-1.451809</td>\n",
       "      <td>-0.916639</td>\n",
       "      <td>-0.936339</td>\n",
       "      <td>-4.577918</td>\n",
       "      <td>-0.929558</td>\n",
       "      <td>-2.346305</td>\n",
       "      <td>-1.054337</td>\n",
       "      <td>0.000000</td>\n",
       "    </tr>\n",
       "    <tr>\n",
       "      <th>50%</th>\n",
       "      <td>-0.878254</td>\n",
       "      <td>1.230339</td>\n",
       "      <td>-0.412803</td>\n",
       "      <td>0.757305</td>\n",
       "      <td>0.685153</td>\n",
       "      <td>-2.086243</td>\n",
       "      <td>0.605229</td>\n",
       "      <td>-0.727234</td>\n",
       "      <td>0.663450</td>\n",
       "      <td>1.000000</td>\n",
       "    </tr>\n",
       "    <tr>\n",
       "      <th>75%</th>\n",
       "      <td>0.761057</td>\n",
       "      <td>2.560427</td>\n",
       "      <td>1.140972</td>\n",
       "      <td>1.953515</td>\n",
       "      <td>2.167821</td>\n",
       "      <td>1.179694</td>\n",
       "      <td>1.855103</td>\n",
       "      <td>0.934496</td>\n",
       "      <td>2.081063</td>\n",
       "      <td>2.000000</td>\n",
       "    </tr>\n",
       "    <tr>\n",
       "      <th>max</th>\n",
       "      <td>5.773768</td>\n",
       "      <td>6.335881</td>\n",
       "      <td>5.332416</td>\n",
       "      <td>5.607530</td>\n",
       "      <td>6.581874</td>\n",
       "      <td>12.373349</td>\n",
       "      <td>5.748204</td>\n",
       "      <td>5.361299</td>\n",
       "      <td>8.788658</td>\n",
       "      <td>2.000000</td>\n",
       "    </tr>\n",
       "  </tbody>\n",
       "</table>\n",
       "</div>"
      ],
      "text/plain": [
       "       start_time     weekday  chrome_browser  firefox_browser  mobile_device  \\\n",
       "count  300.000000  300.000000      300.000000       300.000000     300.000000   \n",
       "mean    -0.627651    1.365010       -0.063963         0.538765       0.549948   \n",
       "std      2.382041    1.568247        2.013020         1.922904       2.220617   \n",
       "min     -6.298082   -3.117534       -4.840822        -4.360543      -6.044592   \n",
       "25%     -2.261912    0.286666       -1.451809        -0.916639      -0.936339   \n",
       "50%     -0.878254    1.230339       -0.412803         0.757305       0.685153   \n",
       "75%      0.761057    2.560427        1.140972         1.953515       2.167821   \n",
       "max      5.773768    6.335881        5.332416         5.607530       6.581874   \n",
       "\n",
       "       1st_page_search  1st_page_faq  2nd_page_search  2nd_page_faq  \\\n",
       "count       300.000000    300.000000       300.000000    300.000000   \n",
       "mean         -1.742049      0.478875        -0.582291      0.508629   \n",
       "std           4.253595      2.007415         2.336779      2.248041   \n",
       "min         -14.890643     -5.624413        -6.691451     -6.088136   \n",
       "25%          -4.577918     -0.929558        -2.346305     -1.054337   \n",
       "50%          -2.086243      0.605229        -0.727234      0.663450   \n",
       "75%           1.179694      1.855103         0.934496      2.081063   \n",
       "max          12.373349      5.748204         5.361299      8.788658   \n",
       "\n",
       "       TARGET_PAGE  \n",
       "count   300.000000  \n",
       "mean      1.010000  \n",
       "std       0.819842  \n",
       "min       0.000000  \n",
       "25%       0.000000  \n",
       "50%       1.000000  \n",
       "75%       2.000000  \n",
       "max       2.000000  "
      ]
     },
     "execution_count": 16,
     "metadata": {},
     "output_type": "execute_result"
    }
   ],
   "source": [
    "# take a look at the summary\n",
    "web_sesh_df.describe()"
   ]
  },
  {
   "cell_type": "markdown",
   "metadata": {},
   "source": [
    "**interpolate start_time on a 0-24 range, to represent hours in a day**"
   ]
  },
  {
   "cell_type": "code",
   "execution_count": 17,
   "metadata": {
    "scrolled": true
   },
   "outputs": [
    {
     "data": {
      "image/png": "[encoded data removed]",
      "text/plain": [
       "<Figure size 432x288 with 1 Axes>"
      ]
     },
     "metadata": {
      "needs_background": "light"
     },
     "output_type": "display_data"
    }
   ],
   "source": [
    "# take a look at its current distribution\n",
    "web_sesh_df.start_time.hist()\n",
    "plt.title('uninterpolated values')\n",
    "plt.show()"
   ]
  },
  {
   "cell_type": "code",
   "execution_count": 18,
   "metadata": {},
   "outputs": [
    {
     "data": {
      "image/png": "[encoded data removed]",
      "text/plain": [
       "<Figure size 432x288 with 1 Axes>"
      ]
     },
     "metadata": {
      "needs_background": "light"
     },
     "output_type": "display_data"
    }
   ],
   "source": [
    "web_sesh_df['start_time'] = np.interp(\n",
    "        # the array of values to interpolate\n",
    "        x = web_sesh_df.start_time,\n",
    "        # the min and max of the existing range\n",
    "        xp = (web_sesh_df.start_time.min(), web_sesh_df.start_time.max()),\n",
    "        # the min and max of the new range\n",
    "        fp = (0,24),\n",
    "    )\n",
    "# display the output as a spot check\n",
    "web_sesh_df['start_time'].hist()\n",
    "plt.title('interpolated values')\n",
    "plt.show()"
   ]
  },
  {
   "cell_type": "markdown",
   "metadata": {},
   "source": [
    "**interpolate weekday to values from 1-7** I'll skip the plotting this time"
   ]
  },
  {
   "cell_type": "code",
   "execution_count": 19,
   "metadata": {},
   "outputs": [],
   "source": [
    "# interpolate the values as floats\n",
    "web_sesh_df['weekday'] = np.interp(\n",
    "        # the array of values to interpolate\n",
    "        x = web_sesh_df.weekday,\n",
    "        # the min and max of the existing range\n",
    "        xp = (web_sesh_df.weekday.min(), web_sesh_df.weekday.max()),\n",
    "        # the min and max of the new range\n",
    "        fp = (1,7),\n",
    "    )\n",
    "# convert the values to ints\n",
    "web_sesh_df['weekday'] = web_sesh_df['weekday'].astype(int)"
   ]
  },
  {
   "cell_type": "markdown",
   "metadata": {},
   "source": [
    "**ok, what's next?**"
   ]
  },
  {
   "cell_type": "code",
   "execution_count": 20,
   "metadata": {},
   "outputs": [
    {
     "data": {
      "text/html": [
       "<div>\n",
       "<style scoped>\n",
       "    .dataframe tbody tr th:only-of-type {\n",
       "        vertical-align: middle;\n",
       "    }\n",
       "\n",
       "    .dataframe tbody tr th {\n",
       "        vertical-align: top;\n",
       "    }\n",
       "\n",
       "    .dataframe thead th {\n",
       "        text-align: right;\n",
       "    }\n",
       "</style>\n",
       "<table border=\"1\" class=\"dataframe\">\n",
       "  <thead>\n",
       "    <tr style=\"text-align: right;\">\n",
       "      <th></th>\n",
       "      <th>start_time</th>\n",
       "      <th>weekday</th>\n",
       "      <th>chrome_browser</th>\n",
       "      <th>firefox_browser</th>\n",
       "      <th>mobile_device</th>\n",
       "      <th>1st_page_search</th>\n",
       "      <th>1st_page_faq</th>\n",
       "      <th>2nd_page_search</th>\n",
       "      <th>2nd_page_faq</th>\n",
       "      <th>TARGET_PAGE</th>\n",
       "    </tr>\n",
       "  </thead>\n",
       "  <tbody>\n",
       "    <tr>\n",
       "      <th>count</th>\n",
       "      <td>300.000000</td>\n",
       "      <td>300.000000</td>\n",
       "      <td>300.000000</td>\n",
       "      <td>300.000000</td>\n",
       "      <td>300.000000</td>\n",
       "      <td>300.000000</td>\n",
       "      <td>300.000000</td>\n",
       "      <td>300.000000</td>\n",
       "      <td>300.000000</td>\n",
       "      <td>300.000000</td>\n",
       "    </tr>\n",
       "    <tr>\n",
       "      <th>mean</th>\n",
       "      <td>11.273362</td>\n",
       "      <td>3.340000</td>\n",
       "      <td>-0.063963</td>\n",
       "      <td>0.538765</td>\n",
       "      <td>0.549948</td>\n",
       "      <td>-1.742049</td>\n",
       "      <td>0.478875</td>\n",
       "      <td>-0.582291</td>\n",
       "      <td>0.508629</td>\n",
       "      <td>1.010000</td>\n",
       "    </tr>\n",
       "    <tr>\n",
       "      <th>std</th>\n",
       "      <td>4.735727</td>\n",
       "      <td>1.043085</td>\n",
       "      <td>2.013020</td>\n",
       "      <td>1.922904</td>\n",
       "      <td>2.220617</td>\n",
       "      <td>4.253595</td>\n",
       "      <td>2.007415</td>\n",
       "      <td>2.336779</td>\n",
       "      <td>2.248041</td>\n",
       "      <td>0.819842</td>\n",
       "    </tr>\n",
       "    <tr>\n",
       "      <th>min</th>\n",
       "      <td>0.000000</td>\n",
       "      <td>1.000000</td>\n",
       "      <td>-4.840822</td>\n",
       "      <td>-4.360543</td>\n",
       "      <td>-6.044592</td>\n",
       "      <td>-14.890643</td>\n",
       "      <td>-5.624413</td>\n",
       "      <td>-6.691451</td>\n",
       "      <td>-6.088136</td>\n",
       "      <td>0.000000</td>\n",
       "    </tr>\n",
       "    <tr>\n",
       "      <th>25%</th>\n",
       "      <td>8.024295</td>\n",
       "      <td>3.000000</td>\n",
       "      <td>-1.451809</td>\n",
       "      <td>-0.916639</td>\n",
       "      <td>-0.936339</td>\n",
       "      <td>-4.577918</td>\n",
       "      <td>-0.929558</td>\n",
       "      <td>-2.346305</td>\n",
       "      <td>-1.054337</td>\n",
       "      <td>0.000000</td>\n",
       "    </tr>\n",
       "    <tr>\n",
       "      <th>50%</th>\n",
       "      <td>10.775140</td>\n",
       "      <td>3.000000</td>\n",
       "      <td>-0.412803</td>\n",
       "      <td>0.757305</td>\n",
       "      <td>0.685153</td>\n",
       "      <td>-2.086243</td>\n",
       "      <td>0.605229</td>\n",
       "      <td>-0.727234</td>\n",
       "      <td>0.663450</td>\n",
       "      <td>1.000000</td>\n",
       "    </tr>\n",
       "    <tr>\n",
       "      <th>75%</th>\n",
       "      <td>14.034247</td>\n",
       "      <td>4.000000</td>\n",
       "      <td>1.140972</td>\n",
       "      <td>1.953515</td>\n",
       "      <td>2.167821</td>\n",
       "      <td>1.179694</td>\n",
       "      <td>1.855103</td>\n",
       "      <td>0.934496</td>\n",
       "      <td>2.081063</td>\n",
       "      <td>2.000000</td>\n",
       "    </tr>\n",
       "    <tr>\n",
       "      <th>max</th>\n",
       "      <td>24.000000</td>\n",
       "      <td>7.000000</td>\n",
       "      <td>5.332416</td>\n",
       "      <td>5.607530</td>\n",
       "      <td>6.581874</td>\n",
       "      <td>12.373349</td>\n",
       "      <td>5.748204</td>\n",
       "      <td>5.361299</td>\n",
       "      <td>8.788658</td>\n",
       "      <td>2.000000</td>\n",
       "    </tr>\n",
       "  </tbody>\n",
       "</table>\n",
       "</div>"
      ],
      "text/plain": [
       "       start_time     weekday  chrome_browser  firefox_browser  mobile_device  \\\n",
       "count  300.000000  300.000000      300.000000       300.000000     300.000000   \n",
       "mean    11.273362    3.340000       -0.063963         0.538765       0.549948   \n",
       "std      4.735727    1.043085        2.013020         1.922904       2.220617   \n",
       "min      0.000000    1.000000       -4.840822        -4.360543      -6.044592   \n",
       "25%      8.024295    3.000000       -1.451809        -0.916639      -0.936339   \n",
       "50%     10.775140    3.000000       -0.412803         0.757305       0.685153   \n",
       "75%     14.034247    4.000000        1.140972         1.953515       2.167821   \n",
       "max     24.000000    7.000000        5.332416         5.607530       6.581874   \n",
       "\n",
       "       1st_page_search  1st_page_faq  2nd_page_search  2nd_page_faq  \\\n",
       "count       300.000000    300.000000       300.000000    300.000000   \n",
       "mean         -1.742049      0.478875        -0.582291      0.508629   \n",
       "std           4.253595      2.007415         2.336779      2.248041   \n",
       "min         -14.890643     -5.624413        -6.691451     -6.088136   \n",
       "25%          -4.577918     -0.929558        -2.346305     -1.054337   \n",
       "50%          -2.086243      0.605229        -0.727234      0.663450   \n",
       "75%           1.179694      1.855103         0.934496      2.081063   \n",
       "max          12.373349      5.748204         5.361299      8.788658   \n",
       "\n",
       "       TARGET_PAGE  \n",
       "count   300.000000  \n",
       "mean      1.010000  \n",
       "std       0.819842  \n",
       "min       0.000000  \n",
       "25%       0.000000  \n",
       "50%       1.000000  \n",
       "75%       2.000000  \n",
       "max       2.000000  "
      ]
     },
     "execution_count": 20,
     "metadata": {},
     "output_type": "execute_result"
    }
   ],
   "source": [
    "web_sesh_df.describe()"
   ]
  },
  {
   "cell_type": "markdown",
   "metadata": {},
   "source": [
    "### interpolate the remaining features as booleans\n",
    "hopefully this won't alter the clustering too much\n",
    "- I think it will be fine since I'm just taking a continuous feature and basically drawing a line in the middle and makign it binary"
   ]
  },
  {
   "cell_type": "code",
   "execution_count": 21,
   "metadata": {},
   "outputs": [
    {
     "data": {
      "text/html": [
       "<div>\n",
       "<style scoped>\n",
       "    .dataframe tbody tr th:only-of-type {\n",
       "        vertical-align: middle;\n",
       "    }\n",
       "\n",
       "    .dataframe tbody tr th {\n",
       "        vertical-align: top;\n",
       "    }\n",
       "\n",
       "    .dataframe thead th {\n",
       "        text-align: right;\n",
       "    }\n",
       "</style>\n",
       "<table border=\"1\" class=\"dataframe\">\n",
       "  <thead>\n",
       "    <tr style=\"text-align: right;\">\n",
       "      <th></th>\n",
       "      <th>start_time</th>\n",
       "      <th>weekday</th>\n",
       "      <th>chrome_browser</th>\n",
       "      <th>firefox_browser</th>\n",
       "      <th>mobile_device</th>\n",
       "      <th>1st_page_search</th>\n",
       "      <th>1st_page_faq</th>\n",
       "      <th>2nd_page_search</th>\n",
       "      <th>2nd_page_faq</th>\n",
       "      <th>TARGET_PAGE</th>\n",
       "    </tr>\n",
       "  </thead>\n",
       "  <tbody>\n",
       "    <tr>\n",
       "      <th>0</th>\n",
       "      <td>7.525582</td>\n",
       "      <td>4</td>\n",
       "      <td>False</td>\n",
       "      <td>False</td>\n",
       "      <td>False</td>\n",
       "      <td>False</td>\n",
       "      <td>False</td>\n",
       "      <td>False</td>\n",
       "      <td>True</td>\n",
       "      <td>1</td>\n",
       "    </tr>\n",
       "    <tr>\n",
       "      <th>1</th>\n",
       "      <td>16.083034</td>\n",
       "      <td>3</td>\n",
       "      <td>True</td>\n",
       "      <td>False</td>\n",
       "      <td>False</td>\n",
       "      <td>True</td>\n",
       "      <td>False</td>\n",
       "      <td>True</td>\n",
       "      <td>True</td>\n",
       "      <td>2</td>\n",
       "    </tr>\n",
       "    <tr>\n",
       "      <th>2</th>\n",
       "      <td>8.673003</td>\n",
       "      <td>4</td>\n",
       "      <td>True</td>\n",
       "      <td>False</td>\n",
       "      <td>True</td>\n",
       "      <td>False</td>\n",
       "      <td>False</td>\n",
       "      <td>False</td>\n",
       "      <td>False</td>\n",
       "      <td>1</td>\n",
       "    </tr>\n",
       "    <tr>\n",
       "      <th>3</th>\n",
       "      <td>5.581274</td>\n",
       "      <td>5</td>\n",
       "      <td>True</td>\n",
       "      <td>False</td>\n",
       "      <td>True</td>\n",
       "      <td>False</td>\n",
       "      <td>False</td>\n",
       "      <td>True</td>\n",
       "      <td>True</td>\n",
       "      <td>1</td>\n",
       "    </tr>\n",
       "    <tr>\n",
       "      <th>4</th>\n",
       "      <td>12.751936</td>\n",
       "      <td>3</td>\n",
       "      <td>False</td>\n",
       "      <td>True</td>\n",
       "      <td>True</td>\n",
       "      <td>True</td>\n",
       "      <td>False</td>\n",
       "      <td>False</td>\n",
       "      <td>False</td>\n",
       "      <td>1</td>\n",
       "    </tr>\n",
       "  </tbody>\n",
       "</table>\n",
       "</div>"
      ],
      "text/plain": [
       "   start_time  weekday  chrome_browser  firefox_browser  mobile_device  \\\n",
       "0    7.525582        4           False            False          False   \n",
       "1   16.083034        3            True            False          False   \n",
       "2    8.673003        4            True            False           True   \n",
       "3    5.581274        5            True            False           True   \n",
       "4   12.751936        3           False             True           True   \n",
       "\n",
       "   1st_page_search  1st_page_faq  2nd_page_search  2nd_page_faq  TARGET_PAGE  \n",
       "0            False         False            False          True            1  \n",
       "1             True         False             True          True            2  \n",
       "2            False         False            False         False            1  \n",
       "3            False         False             True          True            1  \n",
       "4             True         False            False         False            1  "
      ]
     },
     "execution_count": 21,
     "metadata": {},
     "output_type": "execute_result"
    }
   ],
   "source": [
    "# iterate throug the columns I want to interpolate to booleans\n",
    "for col in [\n",
    "    'chrome_browser', 'firefox_browser', \n",
    "    'mobile_device', \n",
    "    '1st_page_search', '1st_page_faq', \n",
    "    '2nd_page_search', '2nd_page_faq'\n",
    "]:\n",
    "    # transform them to the boolean series\n",
    "    web_sesh_df[col] = web_sesh_df[col] >= web_sesh_df[col].median()\n",
    "\n",
    "web_sesh_df.head()"
   ]
  },
  {
   "cell_type": "markdown",
   "metadata": {},
   "source": [
    "## Ok. now let's see how well a random forest does on the data"
   ]
  },
  {
   "cell_type": "code",
   "execution_count": 22,
   "metadata": {},
   "outputs": [],
   "source": [
    "from sklearn.ensemble import RandomForestClassifier\n",
    "from sklearn.model_selection import train_test_split\n",
    "from sklearn.metrics import plot_confusion_matrix"
   ]
  },
  {
   "cell_type": "code",
   "execution_count": 23,
   "metadata": {},
   "outputs": [],
   "source": [
    "# instantiate a model\n",
    "classifier = RandomForestClassifier(\n",
    "    max_depth=5, n_estimators=20\n",
    ")"
   ]
  },
  {
   "cell_type": "code",
   "execution_count": 24,
   "metadata": {},
   "outputs": [
    {
     "name": "stdout",
     "output_type": "stream",
     "text": [
      "0.8266666666666667\n"
     ]
    }
   ],
   "source": [
    "# split the data into test and training\n",
    "X_train, X_test, y_train, y_test = train_test_split(\n",
    "    web_sesh_df.drop(columns = ['TARGET_PAGE']), web_sesh_df.TARGET_PAGE\n",
    ")\n",
    "\n",
    "# fit the classifier\n",
    "classifier.fit(\n",
    "    X_train, y_train\n",
    ")\n",
    "# score the classifier\n",
    "score = classifier.score(X_test, y_test)\n",
    "print(score)"
   ]
  },
  {
   "cell_type": "markdown",
   "metadata": {},
   "source": [
    "**take a look at the confusion matrix**, normalized"
   ]
  },
  {
   "cell_type": "code",
   "execution_count": 28,
   "metadata": {},
   "outputs": [
    {
     "data": {
      "image/png": "[encoded data removed]",
      "text/plain": [
       "<Figure size 432x288 with 2 Axes>"
      ]
     },
     "metadata": {
      "needs_background": "light"
     },
     "output_type": "display_data"
    }
   ],
   "source": [
    "plot_confusion_matrix(\n",
    "    classifier,\n",
    "    X_test, y_test,\n",
    "    display_labels = ['class1', 'class2', 'class3'],\n",
    "    cmap = plt.cm.Blues,\n",
    "    normalize = 'true'\n",
    ")\n",
    "plt.show()"
   ]
  },
  {
   "cell_type": "markdown",
   "metadata": {},
   "source": [
    "**great! so we've established the synthetic data is modelable**"
   ]
  }
 ],
 "metadata": {
  "kernelspec": {
   "display_name": "Python 3",
   "language": "python",
   "name": "python3"
  },
  "language_info": {
   "codemirror_mode": {
    "name": "ipython",
    "version": 3
   },
   "file_extension": ".py",
   "mimetype": "text/x-python",
   "name": "python",
   "nbconvert_exporter": "python",
   "pygments_lexer": "ipython3",
   "version": "3.8.3"
  }
 },
 "nbformat": 4,
 "nbformat_minor": 4
}
